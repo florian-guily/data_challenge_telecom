{
 "cells": [
  {
   "cell_type": "code",
   "execution_count": 1,
   "metadata": {},
   "outputs": [],
   "source": [
    "import numpy as np\n",
    "import pandas as pd\n",
    "import cv2\n",
    "import mahotas\n",
    "import os\n",
    "from matplotlib import pyplot as plt\n",
    "from mpl_toolkits.axes_grid1 import ImageGrid\n",
    "from skimage import io\n",
    "import os\n",
    "\n",
    "from sklearn.model_selection import train_test_split, GridSearchCV\n",
    "from sklearn.ensemble import RandomForestClassifier\n",
    "from sklearn.metrics import accuracy_score, classification_report, f1_score"
   ]
  },
  {
   "attachments": {},
   "cell_type": "markdown",
   "metadata": {},
   "source": [
    "# General Functions"
   ]
  },
  {
   "cell_type": "code",
   "execution_count": 4,
   "metadata": {},
   "outputs": [],
   "source": [
    "# parameters for the features extraction\n",
    "bins = 8\n",
    "\n",
    "# functions to extract features from the images\n",
    "def fd_hu_moments(image):\n",
    "    image = cv2.cvtColor(image, cv2.COLOR_BGR2GRAY)\n",
    "    feature = cv2.HuMoments(cv2.moments(image)).flatten()\n",
    "    return feature\n",
    "\n",
    "def fd_haralick(image):\n",
    "    gray = cv2.cvtColor(image, cv2.COLOR_BGR2GRAY)\n",
    "    haralick = mahotas.features.haralick(gray).mean(axis=0)\n",
    "    return haralick\n",
    "\n",
    "def fd_histogram(image, mask=None):\n",
    "    image = cv2.cvtColor(image, cv2.COLOR_BGR2HSV)\n",
    "    hist  = cv2.calcHist([image], [0, 1, 2], None, [bins, bins, bins], [0, 256, 0, 256, 0, 256])\n",
    "    cv2.normalize(hist, hist)\n",
    "    return hist.flatten()\n",
    "\n",
    "def create_features(imgs, data_path='data-challenge/Train/'):\n",
    "    # Compute the features\n",
    "    feat_haralick = []\n",
    "    feat_histogram = []\n",
    "    feat_hu = []\n",
    "    print(data_path)\n",
    "    for i in imgs:\n",
    "        img = cv2.imread(data_path + i)  # Load image\n",
    "        feat_hu.append(fd_hu_moments(img))  # Append Hu values\n",
    "        feat_haralick.append(fd_haralick(img))  # Append Haralick values\n",
    "        feat_histogram.append(fd_histogram(img))  # Append Histogram values\n",
    "    \n",
    "    df_features = np.hstack([feat_haralick, feat_hu, feat_histogram])\n",
    "    df_features = pd.DataFrame(df_features)\n",
    "    print(df_features.shape)\n",
    "\n",
    "    return df_features\n",
    "\n",
    "def parse_fn(filename):\n",
    "    # <BIOPSY_PROCEDURE>_<TUMOR_CLASS>_<TUMOR_TYPE>-<YEAR>-<SLIDE_ID>-<MAG>-<SEQ>\n",
    "    parsed = filename[:-4].replace('-', '_').split('_')\n",
    "    parsed.append(filename)\n",
    "    return parsed\n",
    "\n",
    "def parseTest_fn(filename):\n",
    "    # <BIOPSY_PROCEDURE>_<ID>\n",
    "    parsed = filename[:-4].split('_')\n",
    "    parsed.append(filename)\n",
    "    return parsed\n",
    "\n",
    "def create_split(images_train, images_test, train_path, test_path):\n",
    "    columns = ['procedure', 'class', 'type', 'magnification', 'slide', 'mag', 'seq', 'filename']\n",
    "\n",
    "    df = pd.DataFrame(list(map(parse_fn, images_train)), columns=columns)\n",
    "    label_maps = {'F':'1', 'DC':'2', 'PC':'3', 'PT':'4', 'MC':'5', 'LC':'6', 'A':'7', 'TA':'8'}\n",
    "    df['type_id'] = df['type'].apply(lambda x: label_maps[x])\n",
    "    \n",
    "    df_features = create_features(images_train, train_path)\n",
    "    X_train, X_val, y_train, y_val = train_test_split(df_features, df['type_id'], stratify=df['type_id'], test_size=0.2)\n",
    "\n",
    "    columns = ['procedure', 'id', 'filename']\n",
    "    info_test = pd.DataFrame(list(map(parseTest_fn, images_test)), columns=columns)\n",
    "    df_features_test = create_features(info_test['filename'], test_path)\n",
    "\n",
    "    return X_train, X_val, y_train, y_val, df_features_test, info_test\n",
    "\n",
    "def evaluate_model(model, X_val, y_val):\n",
    "    y_pred = model.predict(X_val)\n",
    "    print(accuracy_score(y_val,y_pred))\n",
    "    print(classification_report(y_val, y_pred))\n",
    "    print(f1_score(y_val, y_pred, average='macro'))\n",
    "    return y_pred\n",
    "\n",
    "def create_submission(model, X_test, info_test):\n",
    "    y_pred_test = model.predict(X_test)\n",
    "    df_pred = pd.concat([info_test['id'], pd.Series(y_pred_test, name='type_id')], axis=1)\n",
    "\n",
    "    display(df_pred['type_id'].value_counts())\n",
    "    df_pred.to_csv('my_pred.csv', index=False, header=False)"
   ]
  },
  {
   "attachments": {},
   "cell_type": "markdown",
   "metadata": {},
   "source": [
    "# Data Pre-processing"
   ]
  },
  {
   "cell_type": "code",
   "execution_count": 5,
   "metadata": {},
   "outputs": [
    {
     "name": "stdout",
     "output_type": "stream",
     "text": [
      "data-challenge/Train/\n",
      "(422, 532)\n",
      "data-challenge/Test/\n",
      "(207, 532)\n"
     ]
    }
   ],
   "source": [
    "train_path = 'data-challenge/Train/'\n",
    "test_path = 'data-challenge/Test/'\n",
    "images_train = os.listdir(path=train_path)\n",
    "images_test = os.listdir(path=test_path)\n",
    "\n",
    "X_train, X_val, y_train, y_val, df_features_test, info_test = create_split(images_train, images_test, train_path, test_path)"
   ]
  },
  {
   "attachments": {},
   "cell_type": "markdown",
   "metadata": {},
   "source": [
    "# Best configuration"
   ]
  },
  {
   "attachments": {},
   "cell_type": "markdown",
   "metadata": {},
   "source": [
    "Voici la meilleur configuration obtenue. Je l'ai obtenue assez rapidement. Ce modele sklearn est une implémentation de lightGBM, un algorithme de boosting plus légère et efficace que les autres methodes de boosting en utilisant un algorithme basé sur un histogramme de valeurs.\n",
    "\n",
    "Le parametre le plus influents semblait etre min_sample_leaf. Cette valeur est assez élevé et permet de limiter la compléxité des modeles en limitant le nombre de feuilles par arbre. J'ai par la suite tenté d'améliorer les resultats en touchant à ce paramètre, ou à la régularisation L2 afin de limiter encore plus l'overfitting mais cela n'a fait que dégrader les performances. La max depth à aussi été tune. La valeur 7 semblait etre un bon compromis. Une valeur moins élevé réduisait les performances du modèle tandis qu'une valeur plus élevé favorisait l'overfitting.\n",
    "\n",
    "Il est assez étonnant que ce modèle soit le plus performant pour ces données. La doc sklearn mentionne que celui-ci est particulièrement efficace pour les gros datasets, or ce n'est pas notre cas ici. Une autre source [kaggle](https://www.kaggle.com/general/264327) annonce que light gbm à tendance à overfit les petits datasets. Malgré tout, c'est le meilleur modèle que j'ai pu obtenir parmis les autres algorithmes de boosting de gradient.\n",
    "\n",
    "Je n'ai pas fait de recherches de paramêtres avec un grid search car les modèles avait tendance à très vite overfitter. Je me retrouvais parfois avec de très bons F1 score sur le jeu de test mais une fois la prediction soumise, le F1 score etait très mauvais. J'y suis donc allé à taton en verifiant à chaque fois le score lors de la soumission. Ce qui explique mon nombre de soumissions très élevé."
   ]
  },
  {
   "cell_type": "code",
   "execution_count": 7,
   "metadata": {},
   "outputs": [
    {
     "name": "stdout",
     "output_type": "stream",
     "text": [
      "0.8588235294117647\n",
      "              precision    recall  f1-score   support\n",
      "\n",
      "           1       0.92      0.80      0.86        15\n",
      "           2       1.00      0.89      0.94         9\n",
      "           3       0.82      0.95      0.88        19\n",
      "           4       0.90      0.82      0.86        11\n",
      "           5       1.00      0.75      0.86        12\n",
      "           6       1.00      0.67      0.80         3\n",
      "           7       0.75      0.92      0.83        13\n",
      "           8       0.60      1.00      0.75         3\n",
      "\n",
      "    accuracy                           0.86        85\n",
      "   macro avg       0.87      0.85      0.85        85\n",
      "weighted avg       0.88      0.86      0.86        85\n",
      "\n",
      "0.8460300036751454\n"
     ]
    },
    {
     "data": {
      "text/plain": [
       "7    66\n",
       "2    48\n",
       "3    34\n",
       "1    23\n",
       "4    22\n",
       "5    13\n",
       "8     1\n",
       "Name: type_id, dtype: int64"
      ]
     },
     "metadata": {},
     "output_type": "display_data"
    }
   ],
   "source": [
    "from sklearn.ensemble import HistGradientBoostingClassifier\n",
    "# best config : 0.7127 model_hgb = HistGradientBoostingClassifier(max_iter=1000, learning_rate=0.1,min_samples_leaf=20, l2_regularization=0, max_depth=7, random_state=1)\n",
    "model_hgb = HistGradientBoostingClassifier(max_iter=1000, learning_rate=0.1,min_samples_leaf=20, l2_regularization=0, max_depth=7, random_state=1)\n",
    "model_hgb.fit(X_train, y_train)\n",
    "evaluate_model(model_hgb, X_val, y_val)\n",
    "\n",
    "create_submission(model_hgb, df_features_test, info_test)"
   ]
  },
  {
   "attachments": {},
   "cell_type": "markdown",
   "metadata": {},
   "source": [
    "# Autres pistes explorées"
   ]
  },
  {
   "attachments": {},
   "cell_type": "markdown",
   "metadata": {},
   "source": [
    "Boosting, SVM, SGD, Transfert Learning, Data augmentation"
   ]
  },
  {
   "attachments": {},
   "cell_type": "markdown",
   "metadata": {},
   "source": [
    "Beaucoup d'efforts ont été fournit dans les algorithmes de boosting. Ces derniers ont été les second algorithmes à être testés après le random forest et se sont révelés assez performants. J'ai donc essayé les gradient boosting de base de Sklearn mais aussi XGBoost. Sans succès. J'ai ensuite testé un SVM avec un kernel rbf et un grand grid search sur les parametres C et gamma qui semblait etre les parametres les plus important pour ce kernel. "
   ]
  },
  {
   "cell_type": "code",
   "execution_count": null,
   "metadata": {},
   "outputs": [
    {
     "data": {
      "image/png": "[encoded data removed]",
      "text/plain": [
       "<Figure size 800x600 with 2 Axes>"
      ]
     },
     "metadata": {},
     "output_type": "display_data"
    }
   ],
   "source": [
    "# le code ne marche pas, il est issue de mon autre notebook, il est juste la pour illustrer le grid search sur les parametres\n",
    "plt.figure(figsize=(8, 6))\n",
    "plt.subplots_adjust(left=0.2, right=0.95, bottom=0.15, top=0.95)\n",
    "plt.imshow(\n",
    "    scores,\n",
    "    interpolation=\"nearest\",\n",
    "    cmap=plt.cm.hot,\n",
    "    norm=MidpointNormalize(vmin=0.2, midpoint=0.92),\n",
    ")\n",
    "plt.xlabel(\"gamma\")\n",
    "plt.ylabel(\"C\")\n",
    "plt.colorbar()\n",
    "plt.xticks(np.arange(len(gamma_range)), gamma_range, rotation=45)\n",
    "plt.yticks(np.arange(len(C_range)), C_range)\n",
    "plt.title(\"Validation accuracy\")\n",
    "plt.show()"
   ]
  },
  {
   "attachments": {},
   "cell_type": "markdown",
   "metadata": {},
   "source": [
    "Le grid search pour le SVM privilegiait des valeurs extremes pour C et gamma pour atteindre un score plutot mauvais (autour des 0.6). La piste des SVM à donc été abandonné."
   ]
  },
  {
   "attachments": {},
   "cell_type": "markdown",
   "metadata": {},
   "source": [
    "La dernière piste beaucoup explorée fut le transfert learning. Le principe est  de prendre un modele de classification d'image pré entrainer et de l'utiliser afin de classifier les images de notre dataset. Le choix du modele s'est porté sur MobileNetV3 pour son efficacité mémoire et de prédiction. Utilisant mon ordinateur portable, je ne pouvais pas me permettre d'utiliser un gros modele. Les poids d'initialisation utilisés étaient les poids Imagenet, un des plus gros dataset de classification d'images. Enfin, la couche de prédiction initiale du modele à été remplacée par mon propre sous modele. Celui-ci etait composé d'une couche GlobalAveragePooling2D afin de récuperer un vecteur, puis d'une combinaison de couche dense de taille variable selon les essais. La couche de sortie est une couche dense de taille 8 pour faire de la classification avec une couche d'activation softmax.\n",
    "Bien que vite performant, le transfert learning ne m'a pas permit de dépassé mon meilleur score. Une pipeline d'augmentation de données à aussi été mis en place pour lutter contre le manque de donnée mais cela n'a pas suffit."
   ]
  },
  {
   "attachments": {},
   "cell_type": "markdown",
   "metadata": {},
   "source": [
    "# Perspective d'amélioration"
   ]
  },
  {
   "attachments": {},
   "cell_type": "markdown",
   "metadata": {},
   "source": [
    "Durant ce projet, je n'ai pas retravailler les features par manque (ou mauvaise gestion) de temps. J'aurais aimé essayer d'autres features ou encore faire une PCA. J'aurais aimé aussi prendre la sortie d'une couche intermédiaire d'un réseau pré entrainé et l'utiliser comme nouveau vecteur de feauture dans un modele de ML comme un SVM ou un gradient boosting."
   ]
  }
 ],
 "metadata": {
  "kernelspec": {
   "display_name": "data_challenge_telecom-3PZ7n0BO",
   "language": "python",
   "name": "python3"
  },
  "language_info": {
   "codemirror_mode": {
    "name": "ipython",
    "version": 3
   },
   "file_extension": ".py",
   "mimetype": "text/x-python",
   "name": "python",
   "nbconvert_exporter": "python",
   "pygments_lexer": "ipython3",
   "version": "3.8.10"
  },
  "orig_nbformat": 4
 },
 "nbformat": 4,
 "nbformat_minor": 2
}
